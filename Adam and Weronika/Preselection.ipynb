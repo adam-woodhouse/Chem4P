{
 "cells": [
  {
   "cell_type": "code",
   "execution_count": null,
   "id": "2e3981d5",
   "metadata": {},
   "outputs": [],
   "source": [
    "file_name = \"VOID_MOFs.gcd\"\n",
    "void_mof = []\n",
    "csd_reader = io.EntryReader('CSD')\n",
    "for line in open(file_name, 'r'):\n",
    "    refcode = line.rstrip()\n",
    "    current_crystal = csd_reader.crystal(refcode)\n",
    "    void_vol = round(current_crystal.void_volume(),2)\n",
    "    if void_vol != 0.00:\n",
    "        void_mof.append(refcode)\n",
    "\n",
    "\n",
    "        \n",
    "output = \"VOID_MOFs.gcd\"\n",
    "with io.EntryWriter(output) as writer:\n",
    "    for structure in void_mof:\n",
    "        #print(structure)\n",
    "        writer.write(csd_reader.entry(structure))"
   ]
  },
  {
   "cell_type": "code",
   "execution_count": null,
   "id": "cb17ea73",
   "metadata": {},
   "outputs": [],
   "source": [
    "with io.CrystalReader('VOID_MOFs.gcd', format='identifiers') as reader:\n",
    "    for crystal in reader:\n",
    "        with io.CrystalWriter('VOID_MOFs_cifs/%s.cif' % crystal.identifier) as writer:\n",
    "            writer.write(crystal)\n",
    "            \n",
    "list_of_cifs = glob.glob(\"VOID_MOFs_cifs/*.cif\")\n",
    "def convert_cif_to_pdb(list_of_cifs):\n",
    "    for i in list_of_cifs:\n",
    "    #read in the cif\n",
    "        atoms = read(i)\n",
    "        write(\"mof_xyz/\"+(str(i).split(\"/\")[1]).split(\".\")[0]+\".xyz\", atoms)\n",
    "convert_cif_to_pdb(list_of_cifs)"
   ]
  },
  {
   "cell_type": "code",
   "execution_count": 23,
   "id": "73258b60",
   "metadata": {},
   "outputs": [
    {
     "name": "stdout",
     "output_type": "stream",
     "text": [
      "File count: 26040\n"
     ]
    }
   ],
   "source": [
    "import os\n",
    "\n",
    "# folder path\n",
    "dir_path = \"VOID_MOFs_cifs\"\n",
    "count = 0\n",
    "# Iterate directory\n",
    "for path in os.listdir(dir_path):\n",
    "    # check if current path is a file\n",
    "    if os.path.isfile(os.path.join(dir_path, path)):\n",
    "        count += 1\n",
    "print('File count:', count)"
   ]
  },
  {
   "cell_type": "code",
   "execution_count": 24,
   "id": "9752df6a",
   "metadata": {},
   "outputs": [
    {
     "name": "stdout",
     "output_type": "stream",
     "text": [
      "File count: 26040\n"
     ]
    }
   ],
   "source": [
    "import os\n",
    "\n",
    "# folder path\n",
    "dir_path = \"VOID_MOFs_xyz\"\n",
    "count = 0\n",
    "# Iterate directory\n",
    "for path in os.listdir(dir_path):\n",
    "    # check if current path is a file\n",
    "    if os.path.isfile(os.path.join(dir_path, path)):\n",
    "        count += 1\n",
    "print('File count:', count)"
   ]
  },
  {
   "cell_type": "code",
   "execution_count": 25,
   "id": "541c0370",
   "metadata": {},
   "outputs": [],
   "source": [
    "from ccdc import io, search\n",
    "from ccdc.interaction import InteractionLibrary\n",
    "import numpy as np\n",
    "import matplotlib.pyplot as plt\n",
    "import time\n",
    "import csv\n",
    "import glob\n",
    "import os\n",
    "import pywindow as pw\n",
    "from ase.io import read, write\n",
    "from ase.visualize import view\n",
    "from ase.atoms import Atom, Atoms"
   ]
  },
  {
   "cell_type": "code",
   "execution_count": 1,
   "id": "e7389cd5",
   "metadata": {},
   "outputs": [
    {
     "name": "stdout",
     "output_type": "stream",
     "text": [
      "Error processing TEST_VOID_MOFs_xyz/ABANAW.xyz\n",
      "Error processing TEST_VOID_MOFs_xyz/ABAVIJ.xyz\n"
     ]
    },
    {
     "name": "stderr",
     "output_type": "stream",
     "text": [
      "/Applications/CCDC/Python_API_2022/miniconda/lib/python3.7/site-packages/pywindow-0.0.1-py3.7.egg/pywindow/utilities.py:1152: VisibleDeprecationWarning: Creating an ndarray from ragged nested sequences (which is a list-or-tuple of lists-or-tuples-or ndarrays with different lengths or shapes) is deprecated. If you meant to do this, you must specify 'dtype=object' when creating the ndarray.\n",
      "/Applications/CCDC/Python_API_2022/miniconda/lib/python3.7/site-packages/pywindow-0.0.1-py3.7.egg/pywindow/utilities.py:1152: VisibleDeprecationWarning: Creating an ndarray from ragged nested sequences (which is a list-or-tuple of lists-or-tuples-or ndarrays with different lengths or shapes) is deprecated. If you meant to do this, you must specify 'dtype=object' when creating the ndarray.\n",
      "/Applications/CCDC/Python_API_2022/miniconda/lib/python3.7/site-packages/pywindow-0.0.1-py3.7.egg/pywindow/utilities.py:1152: VisibleDeprecationWarning: Creating an ndarray from ragged nested sequences (which is a list-or-tuple of lists-or-tuples-or ndarrays with different lengths or shapes) is deprecated. If you meant to do this, you must specify 'dtype=object' when creating the ndarray.\n",
      "/Applications/CCDC/Python_API_2022/miniconda/lib/python3.7/site-packages/pywindow-0.0.1-py3.7.egg/pywindow/utilities.py:1152: VisibleDeprecationWarning: Creating an ndarray from ragged nested sequences (which is a list-or-tuple of lists-or-tuples-or ndarrays with different lengths or shapes) is deprecated. If you meant to do this, you must specify 'dtype=object' when creating the ndarray.\n",
      "/Applications/CCDC/Python_API_2022/miniconda/lib/python3.7/site-packages/pywindow-0.0.1-py3.7.egg/pywindow/utilities.py:1152: VisibleDeprecationWarning: Creating an ndarray from ragged nested sequences (which is a list-or-tuple of lists-or-tuples-or ndarrays with different lengths or shapes) is deprecated. If you meant to do this, you must specify 'dtype=object' when creating the ndarray.\n",
      "/Applications/CCDC/Python_API_2022/miniconda/lib/python3.7/site-packages/pywindow-0.0.1-py3.7.egg/pywindow/utilities.py:1152: VisibleDeprecationWarning: Creating an ndarray from ragged nested sequences (which is a list-or-tuple of lists-or-tuples-or ndarrays with different lengths or shapes) is deprecated. If you meant to do this, you must specify 'dtype=object' when creating the ndarray.\n",
      "/Applications/CCDC/Python_API_2022/miniconda/lib/python3.7/site-packages/pywindow-0.0.1-py3.7.egg/pywindow/utilities.py:1152: VisibleDeprecationWarning: Creating an ndarray from ragged nested sequences (which is a list-or-tuple of lists-or-tuples-or ndarrays with different lengths or shapes) is deprecated. If you meant to do this, you must specify 'dtype=object' when creating the ndarray.\n",
      "/Applications/CCDC/Python_API_2022/miniconda/lib/python3.7/site-packages/pywindow-0.0.1-py3.7.egg/pywindow/utilities.py:1152: VisibleDeprecationWarning: Creating an ndarray from ragged nested sequences (which is a list-or-tuple of lists-or-tuples-or ndarrays with different lengths or shapes) is deprecated. If you meant to do this, you must specify 'dtype=object' when creating the ndarray.\n",
      "/Applications/CCDC/Python_API_2022/miniconda/lib/python3.7/site-packages/pywindow-0.0.1-py3.7.egg/pywindow/utilities.py:1152: VisibleDeprecationWarning: Creating an ndarray from ragged nested sequences (which is a list-or-tuple of lists-or-tuples-or ndarrays with different lengths or shapes) is deprecated. If you meant to do this, you must specify 'dtype=object' when creating the ndarray.\n",
      "/Applications/CCDC/Python_API_2022/miniconda/lib/python3.7/site-packages/pywindow-0.0.1-py3.7.egg/pywindow/utilities.py:1152: VisibleDeprecationWarning: Creating an ndarray from ragged nested sequences (which is a list-or-tuple of lists-or-tuples-or ndarrays with different lengths or shapes) is deprecated. If you meant to do this, you must specify 'dtype=object' when creating the ndarray.\n",
      "/Applications/CCDC/Python_API_2022/miniconda/lib/python3.7/site-packages/pywindow-0.0.1-py3.7.egg/pywindow/utilities.py:1152: VisibleDeprecationWarning: Creating an ndarray from ragged nested sequences (which is a list-or-tuple of lists-or-tuples-or ndarrays with different lengths or shapes) is deprecated. If you meant to do this, you must specify 'dtype=object' when creating the ndarray.\n",
      "/Applications/CCDC/Python_API_2022/miniconda/lib/python3.7/site-packages/pywindow-0.0.1-py3.7.egg/pywindow/utilities.py:1152: VisibleDeprecationWarning: Creating an ndarray from ragged nested sequences (which is a list-or-tuple of lists-or-tuples-or ndarrays with different lengths or shapes) is deprecated. If you meant to do this, you must specify 'dtype=object' when creating the ndarray.\n",
      "/Applications/CCDC/Python_API_2022/miniconda/lib/python3.7/site-packages/pywindow-0.0.1-py3.7.egg/pywindow/utilities.py:1152: VisibleDeprecationWarning: Creating an ndarray from ragged nested sequences (which is a list-or-tuple of lists-or-tuples-or ndarrays with different lengths or shapes) is deprecated. If you meant to do this, you must specify 'dtype=object' when creating the ndarray.\n",
      "/Applications/CCDC/Python_API_2022/miniconda/lib/python3.7/site-packages/pywindow-0.0.1-py3.7.egg/pywindow/utilities.py:1152: VisibleDeprecationWarning: Creating an ndarray from ragged nested sequences (which is a list-or-tuple of lists-or-tuples-or ndarrays with different lengths or shapes) is deprecated. If you meant to do this, you must specify 'dtype=object' when creating the ndarray.\n",
      "/Applications/CCDC/Python_API_2022/miniconda/lib/python3.7/site-packages/pywindow-0.0.1-py3.7.egg/pywindow/utilities.py:1152: VisibleDeprecationWarning: Creating an ndarray from ragged nested sequences (which is a list-or-tuple of lists-or-tuples-or ndarrays with different lengths or shapes) is deprecated. If you meant to do this, you must specify 'dtype=object' when creating the ndarray.\n",
      "/Applications/CCDC/Python_API_2022/miniconda/lib/python3.7/site-packages/pywindow-0.0.1-py3.7.egg/pywindow/utilities.py:1152: VisibleDeprecationWarning: Creating an ndarray from ragged nested sequences (which is a list-or-tuple of lists-or-tuples-or ndarrays with different lengths or shapes) is deprecated. If you meant to do this, you must specify 'dtype=object' when creating the ndarray.\n",
      "/Applications/CCDC/Python_API_2022/miniconda/lib/python3.7/site-packages/pywindow-0.0.1-py3.7.egg/pywindow/utilities.py:1152: VisibleDeprecationWarning: Creating an ndarray from ragged nested sequences (which is a list-or-tuple of lists-or-tuples-or ndarrays with different lengths or shapes) is deprecated. If you meant to do this, you must specify 'dtype=object' when creating the ndarray.\n",
      "/Applications/CCDC/Python_API_2022/miniconda/lib/python3.7/site-packages/pywindow-0.0.1-py3.7.egg/pywindow/utilities.py:1152: VisibleDeprecationWarning: Creating an ndarray from ragged nested sequences (which is a list-or-tuple of lists-or-tuples-or ndarrays with different lengths or shapes) is deprecated. If you meant to do this, you must specify 'dtype=object' when creating the ndarray.\n",
      "/Applications/CCDC/Python_API_2022/miniconda/lib/python3.7/site-packages/pywindow-0.0.1-py3.7.egg/pywindow/utilities.py:1152: VisibleDeprecationWarning: Creating an ndarray from ragged nested sequences (which is a list-or-tuple of lists-or-tuples-or ndarrays with different lengths or shapes) is deprecated. If you meant to do this, you must specify 'dtype=object' when creating the ndarray.\n",
      "/Applications/CCDC/Python_API_2022/miniconda/lib/python3.7/site-packages/pywindow-0.0.1-py3.7.egg/pywindow/utilities.py:1152: VisibleDeprecationWarning: Creating an ndarray from ragged nested sequences (which is a list-or-tuple of lists-or-tuples-or ndarrays with different lengths or shapes) is deprecated. If you meant to do this, you must specify 'dtype=object' when creating the ndarray.\n",
      "/Applications/CCDC/Python_API_2022/miniconda/lib/python3.7/site-packages/pywindow-0.0.1-py3.7.egg/pywindow/utilities.py:1152: VisibleDeprecationWarning: Creating an ndarray from ragged nested sequences (which is a list-or-tuple of lists-or-tuples-or ndarrays with different lengths or shapes) is deprecated. If you meant to do this, you must specify 'dtype=object' when creating the ndarray.\n",
      "/Applications/CCDC/Python_API_2022/miniconda/lib/python3.7/site-packages/pywindow-0.0.1-py3.7.egg/pywindow/utilities.py:1152: VisibleDeprecationWarning: Creating an ndarray from ragged nested sequences (which is a list-or-tuple of lists-or-tuples-or ndarrays with different lengths or shapes) is deprecated. If you meant to do this, you must specify 'dtype=object' when creating the ndarray.\n",
      "/Applications/CCDC/Python_API_2022/miniconda/lib/python3.7/site-packages/pywindow-0.0.1-py3.7.egg/pywindow/utilities.py:1152: VisibleDeprecationWarning: Creating an ndarray from ragged nested sequences (which is a list-or-tuple of lists-or-tuples-or ndarrays with different lengths or shapes) is deprecated. If you meant to do this, you must specify 'dtype=object' when creating the ndarray.\n",
      "/Applications/CCDC/Python_API_2022/miniconda/lib/python3.7/site-packages/pywindow-0.0.1-py3.7.egg/pywindow/utilities.py:1152: VisibleDeprecationWarning: Creating an ndarray from ragged nested sequences (which is a list-or-tuple of lists-or-tuples-or ndarrays with different lengths or shapes) is deprecated. If you meant to do this, you must specify 'dtype=object' when creating the ndarray.\n"
     ]
    },
    {
     "name": "stderr",
     "output_type": "stream",
     "text": [
      "/Applications/CCDC/Python_API_2022/miniconda/lib/python3.7/site-packages/pywindow-0.0.1-py3.7.egg/pywindow/utilities.py:1152: VisibleDeprecationWarning: Creating an ndarray from ragged nested sequences (which is a list-or-tuple of lists-or-tuples-or ndarrays with different lengths or shapes) is deprecated. If you meant to do this, you must specify 'dtype=object' when creating the ndarray.\n",
      "/Applications/CCDC/Python_API_2022/miniconda/lib/python3.7/site-packages/pywindow-0.0.1-py3.7.egg/pywindow/utilities.py:1152: VisibleDeprecationWarning: Creating an ndarray from ragged nested sequences (which is a list-or-tuple of lists-or-tuples-or ndarrays with different lengths or shapes) is deprecated. If you meant to do this, you must specify 'dtype=object' when creating the ndarray.\n",
      "/Applications/CCDC/Python_API_2022/miniconda/lib/python3.7/site-packages/pywindow-0.0.1-py3.7.egg/pywindow/utilities.py:1152: VisibleDeprecationWarning: Creating an ndarray from ragged nested sequences (which is a list-or-tuple of lists-or-tuples-or ndarrays with different lengths or shapes) is deprecated. If you meant to do this, you must specify 'dtype=object' when creating the ndarray.\n",
      "/Applications/CCDC/Python_API_2022/miniconda/lib/python3.7/site-packages/pywindow-0.0.1-py3.7.egg/pywindow/utilities.py:1152: VisibleDeprecationWarning: Creating an ndarray from ragged nested sequences (which is a list-or-tuple of lists-or-tuples-or ndarrays with different lengths or shapes) is deprecated. If you meant to do this, you must specify 'dtype=object' when creating the ndarray.\n",
      "/Applications/CCDC/Python_API_2022/miniconda/lib/python3.7/site-packages/pywindow-0.0.1-py3.7.egg/pywindow/utilities.py:1152: VisibleDeprecationWarning: Creating an ndarray from ragged nested sequences (which is a list-or-tuple of lists-or-tuples-or ndarrays with different lengths or shapes) is deprecated. If you meant to do this, you must specify 'dtype=object' when creating the ndarray.\n",
      "/Applications/CCDC/Python_API_2022/miniconda/lib/python3.7/site-packages/pywindow-0.0.1-py3.7.egg/pywindow/utilities.py:1152: VisibleDeprecationWarning: Creating an ndarray from ragged nested sequences (which is a list-or-tuple of lists-or-tuples-or ndarrays with different lengths or shapes) is deprecated. If you meant to do this, you must specify 'dtype=object' when creating the ndarray.\n",
      "/Applications/CCDC/Python_API_2022/miniconda/lib/python3.7/site-packages/pywindow-0.0.1-py3.7.egg/pywindow/utilities.py:1152: VisibleDeprecationWarning: Creating an ndarray from ragged nested sequences (which is a list-or-tuple of lists-or-tuples-or ndarrays with different lengths or shapes) is deprecated. If you meant to do this, you must specify 'dtype=object' when creating the ndarray.\n",
      "/Applications/CCDC/Python_API_2022/miniconda/lib/python3.7/site-packages/pywindow-0.0.1-py3.7.egg/pywindow/utilities.py:1152: VisibleDeprecationWarning: Creating an ndarray from ragged nested sequences (which is a list-or-tuple of lists-or-tuples-or ndarrays with different lengths or shapes) is deprecated. If you meant to do this, you must specify 'dtype=object' when creating the ndarray.\n",
      "/Applications/CCDC/Python_API_2022/miniconda/lib/python3.7/site-packages/pywindow-0.0.1-py3.7.egg/pywindow/utilities.py:1152: VisibleDeprecationWarning: Creating an ndarray from ragged nested sequences (which is a list-or-tuple of lists-or-tuples-or ndarrays with different lengths or shapes) is deprecated. If you meant to do this, you must specify 'dtype=object' when creating the ndarray.\n",
      "/Applications/CCDC/Python_API_2022/miniconda/lib/python3.7/site-packages/pywindow-0.0.1-py3.7.egg/pywindow/utilities.py:1152: VisibleDeprecationWarning: Creating an ndarray from ragged nested sequences (which is a list-or-tuple of lists-or-tuples-or ndarrays with different lengths or shapes) is deprecated. If you meant to do this, you must specify 'dtype=object' when creating the ndarray.\n",
      "/Applications/CCDC/Python_API_2022/miniconda/lib/python3.7/site-packages/pywindow-0.0.1-py3.7.egg/pywindow/utilities.py:1152: VisibleDeprecationWarning: Creating an ndarray from ragged nested sequences (which is a list-or-tuple of lists-or-tuples-or ndarrays with different lengths or shapes) is deprecated. If you meant to do this, you must specify 'dtype=object' when creating the ndarray.\n",
      "/Applications/CCDC/Python_API_2022/miniconda/lib/python3.7/site-packages/pywindow-0.0.1-py3.7.egg/pywindow/utilities.py:1152: VisibleDeprecationWarning: Creating an ndarray from ragged nested sequences (which is a list-or-tuple of lists-or-tuples-or ndarrays with different lengths or shapes) is deprecated. If you meant to do this, you must specify 'dtype=object' when creating the ndarray.\n",
      "/Applications/CCDC/Python_API_2022/miniconda/lib/python3.7/site-packages/pywindow-0.0.1-py3.7.egg/pywindow/utilities.py:1152: VisibleDeprecationWarning: Creating an ndarray from ragged nested sequences (which is a list-or-tuple of lists-or-tuples-or ndarrays with different lengths or shapes) is deprecated. If you meant to do this, you must specify 'dtype=object' when creating the ndarray.\n",
      "/Applications/CCDC/Python_API_2022/miniconda/lib/python3.7/site-packages/pywindow-0.0.1-py3.7.egg/pywindow/utilities.py:1152: VisibleDeprecationWarning: Creating an ndarray from ragged nested sequences (which is a list-or-tuple of lists-or-tuples-or ndarrays with different lengths or shapes) is deprecated. If you meant to do this, you must specify 'dtype=object' when creating the ndarray.\n",
      "/Applications/CCDC/Python_API_2022/miniconda/lib/python3.7/site-packages/pywindow-0.0.1-py3.7.egg/pywindow/utilities.py:1152: VisibleDeprecationWarning: Creating an ndarray from ragged nested sequences (which is a list-or-tuple of lists-or-tuples-or ndarrays with different lengths or shapes) is deprecated. If you meant to do this, you must specify 'dtype=object' when creating the ndarray.\n",
      "/Applications/CCDC/Python_API_2022/miniconda/lib/python3.7/site-packages/pywindow-0.0.1-py3.7.egg/pywindow/utilities.py:1152: VisibleDeprecationWarning: Creating an ndarray from ragged nested sequences (which is a list-or-tuple of lists-or-tuples-or ndarrays with different lengths or shapes) is deprecated. If you meant to do this, you must specify 'dtype=object' when creating the ndarray.\n",
      "/Applications/CCDC/Python_API_2022/miniconda/lib/python3.7/site-packages/pywindow-0.0.1-py3.7.egg/pywindow/utilities.py:1152: VisibleDeprecationWarning: Creating an ndarray from ragged nested sequences (which is a list-or-tuple of lists-or-tuples-or ndarrays with different lengths or shapes) is deprecated. If you meant to do this, you must specify 'dtype=object' when creating the ndarray.\n",
      "/Applications/CCDC/Python_API_2022/miniconda/lib/python3.7/site-packages/pywindow-0.0.1-py3.7.egg/pywindow/utilities.py:1152: VisibleDeprecationWarning: Creating an ndarray from ragged nested sequences (which is a list-or-tuple of lists-or-tuples-or ndarrays with different lengths or shapes) is deprecated. If you meant to do this, you must specify 'dtype=object' when creating the ndarray.\n",
      "/Applications/CCDC/Python_API_2022/miniconda/lib/python3.7/site-packages/pywindow-0.0.1-py3.7.egg/pywindow/utilities.py:1152: VisibleDeprecationWarning: Creating an ndarray from ragged nested sequences (which is a list-or-tuple of lists-or-tuples-or ndarrays with different lengths or shapes) is deprecated. If you meant to do this, you must specify 'dtype=object' when creating the ndarray.\n",
      "/Applications/CCDC/Python_API_2022/miniconda/lib/python3.7/site-packages/pywindow-0.0.1-py3.7.egg/pywindow/utilities.py:1152: VisibleDeprecationWarning: Creating an ndarray from ragged nested sequences (which is a list-or-tuple of lists-or-tuples-or ndarrays with different lengths or shapes) is deprecated. If you meant to do this, you must specify 'dtype=object' when creating the ndarray.\n",
      "/Applications/CCDC/Python_API_2022/miniconda/lib/python3.7/site-packages/pywindow-0.0.1-py3.7.egg/pywindow/utilities.py:1152: VisibleDeprecationWarning: Creating an ndarray from ragged nested sequences (which is a list-or-tuple of lists-or-tuples-or ndarrays with different lengths or shapes) is deprecated. If you meant to do this, you must specify 'dtype=object' when creating the ndarray.\n",
      "/Applications/CCDC/Python_API_2022/miniconda/lib/python3.7/site-packages/pywindow-0.0.1-py3.7.egg/pywindow/utilities.py:1152: VisibleDeprecationWarning: Creating an ndarray from ragged nested sequences (which is a list-or-tuple of lists-or-tuples-or ndarrays with different lengths or shapes) is deprecated. If you meant to do this, you must specify 'dtype=object' when creating the ndarray.\n",
      "/Applications/CCDC/Python_API_2022/miniconda/lib/python3.7/site-packages/pywindow-0.0.1-py3.7.egg/pywindow/utilities.py:1152: VisibleDeprecationWarning: Creating an ndarray from ragged nested sequences (which is a list-or-tuple of lists-or-tuples-or ndarrays with different lengths or shapes) is deprecated. If you meant to do this, you must specify 'dtype=object' when creating the ndarray.\n",
      "/Applications/CCDC/Python_API_2022/miniconda/lib/python3.7/site-packages/pywindow-0.0.1-py3.7.egg/pywindow/utilities.py:1152: VisibleDeprecationWarning: Creating an ndarray from ragged nested sequences (which is a list-or-tuple of lists-or-tuples-or ndarrays with different lengths or shapes) is deprecated. If you meant to do this, you must specify 'dtype=object' when creating the ndarray.\n"
     ]
    },
    {
     "name": "stderr",
     "output_type": "stream",
     "text": [
      "/Applications/CCDC/Python_API_2022/miniconda/lib/python3.7/site-packages/pywindow-0.0.1-py3.7.egg/pywindow/utilities.py:1152: VisibleDeprecationWarning: Creating an ndarray from ragged nested sequences (which is a list-or-tuple of lists-or-tuples-or ndarrays with different lengths or shapes) is deprecated. If you meant to do this, you must specify 'dtype=object' when creating the ndarray.\n",
      "/Applications/CCDC/Python_API_2022/miniconda/lib/python3.7/site-packages/pywindow-0.0.1-py3.7.egg/pywindow/utilities.py:1152: VisibleDeprecationWarning: Creating an ndarray from ragged nested sequences (which is a list-or-tuple of lists-or-tuples-or ndarrays with different lengths or shapes) is deprecated. If you meant to do this, you must specify 'dtype=object' when creating the ndarray.\n",
      "/Applications/CCDC/Python_API_2022/miniconda/lib/python3.7/site-packages/pywindow-0.0.1-py3.7.egg/pywindow/utilities.py:1152: VisibleDeprecationWarning: Creating an ndarray from ragged nested sequences (which is a list-or-tuple of lists-or-tuples-or ndarrays with different lengths or shapes) is deprecated. If you meant to do this, you must specify 'dtype=object' when creating the ndarray.\n",
      "/Applications/CCDC/Python_API_2022/miniconda/lib/python3.7/site-packages/pywindow-0.0.1-py3.7.egg/pywindow/utilities.py:1152: VisibleDeprecationWarning: Creating an ndarray from ragged nested sequences (which is a list-or-tuple of lists-or-tuples-or ndarrays with different lengths or shapes) is deprecated. If you meant to do this, you must specify 'dtype=object' when creating the ndarray.\n",
      "/Applications/CCDC/Python_API_2022/miniconda/lib/python3.7/site-packages/pywindow-0.0.1-py3.7.egg/pywindow/utilities.py:1152: VisibleDeprecationWarning: Creating an ndarray from ragged nested sequences (which is a list-or-tuple of lists-or-tuples-or ndarrays with different lengths or shapes) is deprecated. If you meant to do this, you must specify 'dtype=object' when creating the ndarray.\n",
      "/Applications/CCDC/Python_API_2022/miniconda/lib/python3.7/site-packages/pywindow-0.0.1-py3.7.egg/pywindow/utilities.py:1152: VisibleDeprecationWarning: Creating an ndarray from ragged nested sequences (which is a list-or-tuple of lists-or-tuples-or ndarrays with different lengths or shapes) is deprecated. If you meant to do this, you must specify 'dtype=object' when creating the ndarray.\n",
      "/Applications/CCDC/Python_API_2022/miniconda/lib/python3.7/site-packages/pywindow-0.0.1-py3.7.egg/pywindow/utilities.py:1152: VisibleDeprecationWarning: Creating an ndarray from ragged nested sequences (which is a list-or-tuple of lists-or-tuples-or ndarrays with different lengths or shapes) is deprecated. If you meant to do this, you must specify 'dtype=object' when creating the ndarray.\n",
      "/Applications/CCDC/Python_API_2022/miniconda/lib/python3.7/site-packages/pywindow-0.0.1-py3.7.egg/pywindow/utilities.py:1152: VisibleDeprecationWarning: Creating an ndarray from ragged nested sequences (which is a list-or-tuple of lists-or-tuples-or ndarrays with different lengths or shapes) is deprecated. If you meant to do this, you must specify 'dtype=object' when creating the ndarray.\n",
      "/Applications/CCDC/Python_API_2022/miniconda/lib/python3.7/site-packages/pywindow-0.0.1-py3.7.egg/pywindow/utilities.py:1152: VisibleDeprecationWarning: Creating an ndarray from ragged nested sequences (which is a list-or-tuple of lists-or-tuples-or ndarrays with different lengths or shapes) is deprecated. If you meant to do this, you must specify 'dtype=object' when creating the ndarray.\n",
      "/Applications/CCDC/Python_API_2022/miniconda/lib/python3.7/site-packages/pywindow-0.0.1-py3.7.egg/pywindow/utilities.py:1152: VisibleDeprecationWarning: Creating an ndarray from ragged nested sequences (which is a list-or-tuple of lists-or-tuples-or ndarrays with different lengths or shapes) is deprecated. If you meant to do this, you must specify 'dtype=object' when creating the ndarray.\n",
      "/Applications/CCDC/Python_API_2022/miniconda/lib/python3.7/site-packages/pywindow-0.0.1-py3.7.egg/pywindow/utilities.py:1152: VisibleDeprecationWarning: Creating an ndarray from ragged nested sequences (which is a list-or-tuple of lists-or-tuples-or ndarrays with different lengths or shapes) is deprecated. If you meant to do this, you must specify 'dtype=object' when creating the ndarray.\n",
      "/Applications/CCDC/Python_API_2022/miniconda/lib/python3.7/site-packages/pywindow-0.0.1-py3.7.egg/pywindow/utilities.py:1152: VisibleDeprecationWarning: Creating an ndarray from ragged nested sequences (which is a list-or-tuple of lists-or-tuples-or ndarrays with different lengths or shapes) is deprecated. If you meant to do this, you must specify 'dtype=object' when creating the ndarray.\n"
     ]
    },
    {
     "name": "stdout",
     "output_type": "stream",
     "text": [
      "Error processing TEST_VOID_MOFs_xyz/ABAYIO.xyz\n",
      "Error processing TEST_VOID_MOFs_xyz/ABAYUY.xyz\n",
      "Error processing TEST_VOID_MOFs_xyz/ABEDAQ.xyz\n"
     ]
    },
    {
     "name": "stderr",
     "output_type": "stream",
     "text": [
      "/Applications/CCDC/Python_API_2022/miniconda/lib/python3.7/site-packages/pywindow-0.0.1-py3.7.egg/pywindow/utilities.py:1152: VisibleDeprecationWarning: Creating an ndarray from ragged nested sequences (which is a list-or-tuple of lists-or-tuples-or ndarrays with different lengths or shapes) is deprecated. If you meant to do this, you must specify 'dtype=object' when creating the ndarray.\n",
      "/Applications/CCDC/Python_API_2022/miniconda/lib/python3.7/site-packages/pywindow-0.0.1-py3.7.egg/pywindow/utilities.py:1152: VisibleDeprecationWarning: Creating an ndarray from ragged nested sequences (which is a list-or-tuple of lists-or-tuples-or ndarrays with different lengths or shapes) is deprecated. If you meant to do this, you must specify 'dtype=object' when creating the ndarray.\n",
      "/Applications/CCDC/Python_API_2022/miniconda/lib/python3.7/site-packages/pywindow-0.0.1-py3.7.egg/pywindow/utilities.py:1152: VisibleDeprecationWarning: Creating an ndarray from ragged nested sequences (which is a list-or-tuple of lists-or-tuples-or ndarrays with different lengths or shapes) is deprecated. If you meant to do this, you must specify 'dtype=object' when creating the ndarray.\n",
      "/Applications/CCDC/Python_API_2022/miniconda/lib/python3.7/site-packages/pywindow-0.0.1-py3.7.egg/pywindow/utilities.py:1152: VisibleDeprecationWarning: Creating an ndarray from ragged nested sequences (which is a list-or-tuple of lists-or-tuples-or ndarrays with different lengths or shapes) is deprecated. If you meant to do this, you must specify 'dtype=object' when creating the ndarray.\n",
      "/Applications/CCDC/Python_API_2022/miniconda/lib/python3.7/site-packages/pywindow-0.0.1-py3.7.egg/pywindow/utilities.py:1152: VisibleDeprecationWarning: Creating an ndarray from ragged nested sequences (which is a list-or-tuple of lists-or-tuples-or ndarrays with different lengths or shapes) is deprecated. If you meant to do this, you must specify 'dtype=object' when creating the ndarray.\n",
      "/Applications/CCDC/Python_API_2022/miniconda/lib/python3.7/site-packages/pywindow-0.0.1-py3.7.egg/pywindow/utilities.py:1152: VisibleDeprecationWarning: Creating an ndarray from ragged nested sequences (which is a list-or-tuple of lists-or-tuples-or ndarrays with different lengths or shapes) is deprecated. If you meant to do this, you must specify 'dtype=object' when creating the ndarray.\n",
      "/Applications/CCDC/Python_API_2022/miniconda/lib/python3.7/site-packages/pywindow-0.0.1-py3.7.egg/pywindow/utilities.py:1152: VisibleDeprecationWarning: Creating an ndarray from ragged nested sequences (which is a list-or-tuple of lists-or-tuples-or ndarrays with different lengths or shapes) is deprecated. If you meant to do this, you must specify 'dtype=object' when creating the ndarray.\n",
      "/Applications/CCDC/Python_API_2022/miniconda/lib/python3.7/site-packages/pywindow-0.0.1-py3.7.egg/pywindow/utilities.py:1152: VisibleDeprecationWarning: Creating an ndarray from ragged nested sequences (which is a list-or-tuple of lists-or-tuples-or ndarrays with different lengths or shapes) is deprecated. If you meant to do this, you must specify 'dtype=object' when creating the ndarray.\n",
      "/Applications/CCDC/Python_API_2022/miniconda/lib/python3.7/site-packages/pywindow-0.0.1-py3.7.egg/pywindow/utilities.py:1152: VisibleDeprecationWarning: Creating an ndarray from ragged nested sequences (which is a list-or-tuple of lists-or-tuples-or ndarrays with different lengths or shapes) is deprecated. If you meant to do this, you must specify 'dtype=object' when creating the ndarray.\n",
      "/Applications/CCDC/Python_API_2022/miniconda/lib/python3.7/site-packages/pywindow-0.0.1-py3.7.egg/pywindow/utilities.py:1152: VisibleDeprecationWarning: Creating an ndarray from ragged nested sequences (which is a list-or-tuple of lists-or-tuples-or ndarrays with different lengths or shapes) is deprecated. If you meant to do this, you must specify 'dtype=object' when creating the ndarray.\n",
      "/Applications/CCDC/Python_API_2022/miniconda/lib/python3.7/site-packages/pywindow-0.0.1-py3.7.egg/pywindow/utilities.py:1152: VisibleDeprecationWarning: Creating an ndarray from ragged nested sequences (which is a list-or-tuple of lists-or-tuples-or ndarrays with different lengths or shapes) is deprecated. If you meant to do this, you must specify 'dtype=object' when creating the ndarray.\n",
      "/Applications/CCDC/Python_API_2022/miniconda/lib/python3.7/site-packages/pywindow-0.0.1-py3.7.egg/pywindow/utilities.py:1152: VisibleDeprecationWarning: Creating an ndarray from ragged nested sequences (which is a list-or-tuple of lists-or-tuples-or ndarrays with different lengths or shapes) is deprecated. If you meant to do this, you must specify 'dtype=object' when creating the ndarray.\n",
      "/Applications/CCDC/Python_API_2022/miniconda/lib/python3.7/site-packages/pywindow-0.0.1-py3.7.egg/pywindow/utilities.py:1152: VisibleDeprecationWarning: Creating an ndarray from ragged nested sequences (which is a list-or-tuple of lists-or-tuples-or ndarrays with different lengths or shapes) is deprecated. If you meant to do this, you must specify 'dtype=object' when creating the ndarray.\n",
      "/Applications/CCDC/Python_API_2022/miniconda/lib/python3.7/site-packages/pywindow-0.0.1-py3.7.egg/pywindow/utilities.py:1152: VisibleDeprecationWarning: Creating an ndarray from ragged nested sequences (which is a list-or-tuple of lists-or-tuples-or ndarrays with different lengths or shapes) is deprecated. If you meant to do this, you must specify 'dtype=object' when creating the ndarray.\n",
      "/Applications/CCDC/Python_API_2022/miniconda/lib/python3.7/site-packages/pywindow-0.0.1-py3.7.egg/pywindow/utilities.py:1152: VisibleDeprecationWarning: Creating an ndarray from ragged nested sequences (which is a list-or-tuple of lists-or-tuples-or ndarrays with different lengths or shapes) is deprecated. If you meant to do this, you must specify 'dtype=object' when creating the ndarray.\n",
      "/Applications/CCDC/Python_API_2022/miniconda/lib/python3.7/site-packages/pywindow-0.0.1-py3.7.egg/pywindow/utilities.py:1152: VisibleDeprecationWarning: Creating an ndarray from ragged nested sequences (which is a list-or-tuple of lists-or-tuples-or ndarrays with different lengths or shapes) is deprecated. If you meant to do this, you must specify 'dtype=object' when creating the ndarray.\n",
      "/Applications/CCDC/Python_API_2022/miniconda/lib/python3.7/site-packages/pywindow-0.0.1-py3.7.egg/pywindow/utilities.py:1152: VisibleDeprecationWarning: Creating an ndarray from ragged nested sequences (which is a list-or-tuple of lists-or-tuples-or ndarrays with different lengths or shapes) is deprecated. If you meant to do this, you must specify 'dtype=object' when creating the ndarray.\n",
      "/Applications/CCDC/Python_API_2022/miniconda/lib/python3.7/site-packages/pywindow-0.0.1-py3.7.egg/pywindow/utilities.py:1152: VisibleDeprecationWarning: Creating an ndarray from ragged nested sequences (which is a list-or-tuple of lists-or-tuples-or ndarrays with different lengths or shapes) is deprecated. If you meant to do this, you must specify 'dtype=object' when creating the ndarray.\n",
      "/Applications/CCDC/Python_API_2022/miniconda/lib/python3.7/site-packages/pywindow-0.0.1-py3.7.egg/pywindow/utilities.py:1152: VisibleDeprecationWarning: Creating an ndarray from ragged nested sequences (which is a list-or-tuple of lists-or-tuples-or ndarrays with different lengths or shapes) is deprecated. If you meant to do this, you must specify 'dtype=object' when creating the ndarray.\n",
      "/Applications/CCDC/Python_API_2022/miniconda/lib/python3.7/site-packages/pywindow-0.0.1-py3.7.egg/pywindow/utilities.py:1152: VisibleDeprecationWarning: Creating an ndarray from ragged nested sequences (which is a list-or-tuple of lists-or-tuples-or ndarrays with different lengths or shapes) is deprecated. If you meant to do this, you must specify 'dtype=object' when creating the ndarray.\n",
      "/Applications/CCDC/Python_API_2022/miniconda/lib/python3.7/site-packages/pywindow-0.0.1-py3.7.egg/pywindow/utilities.py:1152: VisibleDeprecationWarning: Creating an ndarray from ragged nested sequences (which is a list-or-tuple of lists-or-tuples-or ndarrays with different lengths or shapes) is deprecated. If you meant to do this, you must specify 'dtype=object' when creating the ndarray.\n",
      "/Applications/CCDC/Python_API_2022/miniconda/lib/python3.7/site-packages/pywindow-0.0.1-py3.7.egg/pywindow/utilities.py:1152: VisibleDeprecationWarning: Creating an ndarray from ragged nested sequences (which is a list-or-tuple of lists-or-tuples-or ndarrays with different lengths or shapes) is deprecated. If you meant to do this, you must specify 'dtype=object' when creating the ndarray.\n",
      "/Applications/CCDC/Python_API_2022/miniconda/lib/python3.7/site-packages/pywindow-0.0.1-py3.7.egg/pywindow/utilities.py:1152: VisibleDeprecationWarning: Creating an ndarray from ragged nested sequences (which is a list-or-tuple of lists-or-tuples-or ndarrays with different lengths or shapes) is deprecated. If you meant to do this, you must specify 'dtype=object' when creating the ndarray.\n",
      "/Applications/CCDC/Python_API_2022/miniconda/lib/python3.7/site-packages/pywindow-0.0.1-py3.7.egg/pywindow/utilities.py:1152: VisibleDeprecationWarning: Creating an ndarray from ragged nested sequences (which is a list-or-tuple of lists-or-tuples-or ndarrays with different lengths or shapes) is deprecated. If you meant to do this, you must specify 'dtype=object' when creating the ndarray.\n"
     ]
    },
    {
     "name": "stderr",
     "output_type": "stream",
     "text": [
      "/Applications/CCDC/Python_API_2022/miniconda/lib/python3.7/site-packages/pywindow-0.0.1-py3.7.egg/pywindow/utilities.py:1152: VisibleDeprecationWarning: Creating an ndarray from ragged nested sequences (which is a list-or-tuple of lists-or-tuples-or ndarrays with different lengths or shapes) is deprecated. If you meant to do this, you must specify 'dtype=object' when creating the ndarray.\n",
      "/Applications/CCDC/Python_API_2022/miniconda/lib/python3.7/site-packages/pywindow-0.0.1-py3.7.egg/pywindow/utilities.py:1152: VisibleDeprecationWarning: Creating an ndarray from ragged nested sequences (which is a list-or-tuple of lists-or-tuples-or ndarrays with different lengths or shapes) is deprecated. If you meant to do this, you must specify 'dtype=object' when creating the ndarray.\n",
      "/Applications/CCDC/Python_API_2022/miniconda/lib/python3.7/site-packages/pywindow-0.0.1-py3.7.egg/pywindow/utilities.py:1152: VisibleDeprecationWarning: Creating an ndarray from ragged nested sequences (which is a list-or-tuple of lists-or-tuples-or ndarrays with different lengths or shapes) is deprecated. If you meant to do this, you must specify 'dtype=object' when creating the ndarray.\n",
      "/Applications/CCDC/Python_API_2022/miniconda/lib/python3.7/site-packages/pywindow-0.0.1-py3.7.egg/pywindow/utilities.py:1152: VisibleDeprecationWarning: Creating an ndarray from ragged nested sequences (which is a list-or-tuple of lists-or-tuples-or ndarrays with different lengths or shapes) is deprecated. If you meant to do this, you must specify 'dtype=object' when creating the ndarray.\n",
      "/Applications/CCDC/Python_API_2022/miniconda/lib/python3.7/site-packages/pywindow-0.0.1-py3.7.egg/pywindow/utilities.py:1152: VisibleDeprecationWarning: Creating an ndarray from ragged nested sequences (which is a list-or-tuple of lists-or-tuples-or ndarrays with different lengths or shapes) is deprecated. If you meant to do this, you must specify 'dtype=object' when creating the ndarray.\n",
      "/Applications/CCDC/Python_API_2022/miniconda/lib/python3.7/site-packages/pywindow-0.0.1-py3.7.egg/pywindow/utilities.py:1152: VisibleDeprecationWarning: Creating an ndarray from ragged nested sequences (which is a list-or-tuple of lists-or-tuples-or ndarrays with different lengths or shapes) is deprecated. If you meant to do this, you must specify 'dtype=object' when creating the ndarray.\n",
      "/Applications/CCDC/Python_API_2022/miniconda/lib/python3.7/site-packages/pywindow-0.0.1-py3.7.egg/pywindow/utilities.py:1152: VisibleDeprecationWarning: Creating an ndarray from ragged nested sequences (which is a list-or-tuple of lists-or-tuples-or ndarrays with different lengths or shapes) is deprecated. If you meant to do this, you must specify 'dtype=object' when creating the ndarray.\n",
      "/Applications/CCDC/Python_API_2022/miniconda/lib/python3.7/site-packages/pywindow-0.0.1-py3.7.egg/pywindow/utilities.py:1152: VisibleDeprecationWarning: Creating an ndarray from ragged nested sequences (which is a list-or-tuple of lists-or-tuples-or ndarrays with different lengths or shapes) is deprecated. If you meant to do this, you must specify 'dtype=object' when creating the ndarray.\n",
      "/Applications/CCDC/Python_API_2022/miniconda/lib/python3.7/site-packages/pywindow-0.0.1-py3.7.egg/pywindow/utilities.py:1152: VisibleDeprecationWarning: Creating an ndarray from ragged nested sequences (which is a list-or-tuple of lists-or-tuples-or ndarrays with different lengths or shapes) is deprecated. If you meant to do this, you must specify 'dtype=object' when creating the ndarray.\n",
      "/Applications/CCDC/Python_API_2022/miniconda/lib/python3.7/site-packages/pywindow-0.0.1-py3.7.egg/pywindow/utilities.py:1152: VisibleDeprecationWarning: Creating an ndarray from ragged nested sequences (which is a list-or-tuple of lists-or-tuples-or ndarrays with different lengths or shapes) is deprecated. If you meant to do this, you must specify 'dtype=object' when creating the ndarray.\n",
      "/Applications/CCDC/Python_API_2022/miniconda/lib/python3.7/site-packages/pywindow-0.0.1-py3.7.egg/pywindow/utilities.py:1152: VisibleDeprecationWarning: Creating an ndarray from ragged nested sequences (which is a list-or-tuple of lists-or-tuples-or ndarrays with different lengths or shapes) is deprecated. If you meant to do this, you must specify 'dtype=object' when creating the ndarray.\n",
      "/Applications/CCDC/Python_API_2022/miniconda/lib/python3.7/site-packages/pywindow-0.0.1-py3.7.egg/pywindow/utilities.py:1152: VisibleDeprecationWarning: Creating an ndarray from ragged nested sequences (which is a list-or-tuple of lists-or-tuples-or ndarrays with different lengths or shapes) is deprecated. If you meant to do this, you must specify 'dtype=object' when creating the ndarray.\n"
     ]
    },
    {
     "name": "stdout",
     "output_type": "stream",
     "text": [
      "Error processing TEST_VOID_MOFs_xyz/ABEFUL.xyz\n",
      "Error processing TEST_VOID_MOFs_xyz/ABELAY.xyz\n",
      "Error processing TEST_VOID_MOFs_xyz/ABELEC.xyz\n"
     ]
    }
   ],
   "source": [
    "import shutil\n",
    "import os\n",
    "import glob\n",
    "import pywindow as pw\n",
    "import pickle \n",
    "\n",
    "def xyz_analyse_window():\n",
    "    list_of_xyzs = sorted(glob.glob(\"TEST_VOID_MOFs_xyz/*.xyz\"))\n",
    "    names = []\n",
    "    windows = []\n",
    "    for xyz in list_of_xyzs:\n",
    "        try:\n",
    "            molsys = pw.MolecularSystem.load_file(xyz)\n",
    "            mol = molsys.system_to_molecule()\n",
    "            window = mol.calculate_windows()\n",
    "            if window.size == 0: #pick MOFs with a non-zero window size.\n",
    "                pass\n",
    "            else:\n",
    "                windows.append(window)\n",
    "                name = os.path.splitext(os.path.basename(xyz))[0]\n",
    "                names.append(name)\n",
    "        except:\n",
    "            print(f'Error processing {xyz}')\n",
    "    return(names, windows)  \n",
    "\n",
    "names, windows = xyz_analyse_window() #Carry out the window size calculations.\n",
    "    \n",
    "dict_of_windows = dict(zip(names, windows)) #Create a dictionary with MOF names and corresponding window sizes.\n",
    "\n",
    "string_to_match = tuple(f\"{i}.xyz\" for i in names)\n",
    "os.mkdir(\"TEST_All_Windows_MOFs_xyz\")\n",
    "\n",
    "for filename in os.listdir(\"VOID_MOFs_xyz\"):\n",
    "    if filename in string_to_match:\n",
    "        shutil.copy(os.path.join(\"VOID_MOFs_xyz\", filename), \"TEST_All_Windows_MOFs_xyz\") #Output 1: a new directory with desired xyz files for further computations.\n",
    "\n",
    "pickle_obj = open(\"TEST_Dictionary of all window sizes.pickle\", \"wb\")\n",
    "pickle.dump(dict_of_windows, pickle_obj)\n",
    "pickle_obj.close()\n",
    "#Output 2: a pickle file containing the dictionary of suitable MOFs.\n",
    "#only MOFs with a non-zero window sizes + without the 'error processing'are included in the outputs\n",
    "\n"
   ]
  },
  {
   "cell_type": "code",
   "execution_count": 2,
   "id": "e23de5c0",
   "metadata": {},
   "outputs": [
    {
     "name": "stdout",
     "output_type": "stream",
     "text": [
      "['ABAVIM', 'ABAVOP', 'ABAVOS', 'ABEDEU'] [array([1.18843289, 2.25178234, 2.24738477, 0.89816767, 1.22022554]), array([3.51897638, 3.44779596]), array([0.50306698, 0.44192796, 0.49383188]), array([6.53629382e+00, 5.57681253e+00, 6.20709682e+00, 4.09770432e+00,\n",
      "       3.28890519e+44, 9.88890299e+42])]\n"
     ]
    }
   ],
   "source": [
    "print(names, windows)"
   ]
  },
  {
   "cell_type": "code",
   "execution_count": 3,
   "id": "7680fea1",
   "metadata": {},
   "outputs": [
    {
     "name": "stdout",
     "output_type": "stream",
     "text": [
      "{'ABAVIM': array([1.18843289, 2.25178234, 2.24738477, 0.89816767, 1.22022554]), 'ABAVOP': array([3.51897638, 3.44779596]), 'ABAVOS': array([0.50306698, 0.44192796, 0.49383188]), 'ABEDEU': array([6.53629382e+00, 5.57681253e+00, 6.20709682e+00, 4.09770432e+00,\n",
      "       3.28890519e+44, 9.88890299e+42])}\n"
     ]
    }
   ],
   "source": [
    "print(dict_of_windows)"
   ]
  },
  {
   "cell_type": "code",
   "execution_count": 5,
   "id": "f6928f23",
   "metadata": {},
   "outputs": [
    {
     "name": "stdout",
     "output_type": "stream",
     "text": [
      "{'ABAVIM': array([1.18843289, 2.25178234, 2.24738477, 0.89816767, 1.22022554]), 'ABAVOP': array([3.51897638, 3.44779596]), 'ABAVOS': array([0.50306698, 0.44192796, 0.49383188]), 'ABEDEU': array([6.53629382e+00, 5.57681253e+00, 6.20709682e+00, 4.09770432e+00,\n",
      "       3.28890519e+44, 9.88890299e+42])}\n"
     ]
    }
   ],
   "source": [
    "#Open a pickle file with pandas.\n",
    "import pandas as pd\n",
    "\n",
    "obj = pd.read_pickle(r'TEST_Dictionary of all window sizes.pickle')\n",
    "print(obj)"
   ]
  },
  {
   "cell_type": "code",
   "execution_count": 4,
   "id": "15d0b044",
   "metadata": {},
   "outputs": [
    {
     "name": "stdout",
     "output_type": "stream",
     "text": [
      "Error processing TEST_VOID_MOFs_xyz/ABANAW.xyz\n",
      "Error processing TEST_VOID_MOFs_xyz/ABAVIJ.xyz\n"
     ]
    },
    {
     "name": "stderr",
     "output_type": "stream",
     "text": [
      "/Applications/CCDC/Python_API_2022/miniconda/lib/python3.7/site-packages/pywindow-0.0.1-py3.7.egg/pywindow/utilities.py:1152: VisibleDeprecationWarning: Creating an ndarray from ragged nested sequences (which is a list-or-tuple of lists-or-tuples-or ndarrays with different lengths or shapes) is deprecated. If you meant to do this, you must specify 'dtype=object' when creating the ndarray.\n",
      "/Applications/CCDC/Python_API_2022/miniconda/lib/python3.7/site-packages/pywindow-0.0.1-py3.7.egg/pywindow/utilities.py:1152: VisibleDeprecationWarning: Creating an ndarray from ragged nested sequences (which is a list-or-tuple of lists-or-tuples-or ndarrays with different lengths or shapes) is deprecated. If you meant to do this, you must specify 'dtype=object' when creating the ndarray.\n",
      "/Applications/CCDC/Python_API_2022/miniconda/lib/python3.7/site-packages/pywindow-0.0.1-py3.7.egg/pywindow/utilities.py:1152: VisibleDeprecationWarning: Creating an ndarray from ragged nested sequences (which is a list-or-tuple of lists-or-tuples-or ndarrays with different lengths or shapes) is deprecated. If you meant to do this, you must specify 'dtype=object' when creating the ndarray.\n",
      "/Applications/CCDC/Python_API_2022/miniconda/lib/python3.7/site-packages/pywindow-0.0.1-py3.7.egg/pywindow/utilities.py:1152: VisibleDeprecationWarning: Creating an ndarray from ragged nested sequences (which is a list-or-tuple of lists-or-tuples-or ndarrays with different lengths or shapes) is deprecated. If you meant to do this, you must specify 'dtype=object' when creating the ndarray.\n",
      "/Applications/CCDC/Python_API_2022/miniconda/lib/python3.7/site-packages/pywindow-0.0.1-py3.7.egg/pywindow/utilities.py:1152: VisibleDeprecationWarning: Creating an ndarray from ragged nested sequences (which is a list-or-tuple of lists-or-tuples-or ndarrays with different lengths or shapes) is deprecated. If you meant to do this, you must specify 'dtype=object' when creating the ndarray.\n",
      "/Applications/CCDC/Python_API_2022/miniconda/lib/python3.7/site-packages/pywindow-0.0.1-py3.7.egg/pywindow/utilities.py:1152: VisibleDeprecationWarning: Creating an ndarray from ragged nested sequences (which is a list-or-tuple of lists-or-tuples-or ndarrays with different lengths or shapes) is deprecated. If you meant to do this, you must specify 'dtype=object' when creating the ndarray.\n",
      "/Applications/CCDC/Python_API_2022/miniconda/lib/python3.7/site-packages/pywindow-0.0.1-py3.7.egg/pywindow/utilities.py:1152: VisibleDeprecationWarning: Creating an ndarray from ragged nested sequences (which is a list-or-tuple of lists-or-tuples-or ndarrays with different lengths or shapes) is deprecated. If you meant to do this, you must specify 'dtype=object' when creating the ndarray.\n",
      "/Applications/CCDC/Python_API_2022/miniconda/lib/python3.7/site-packages/pywindow-0.0.1-py3.7.egg/pywindow/utilities.py:1152: VisibleDeprecationWarning: Creating an ndarray from ragged nested sequences (which is a list-or-tuple of lists-or-tuples-or ndarrays with different lengths or shapes) is deprecated. If you meant to do this, you must specify 'dtype=object' when creating the ndarray.\n",
      "/Applications/CCDC/Python_API_2022/miniconda/lib/python3.7/site-packages/pywindow-0.0.1-py3.7.egg/pywindow/utilities.py:1152: VisibleDeprecationWarning: Creating an ndarray from ragged nested sequences (which is a list-or-tuple of lists-or-tuples-or ndarrays with different lengths or shapes) is deprecated. If you meant to do this, you must specify 'dtype=object' when creating the ndarray.\n",
      "/Applications/CCDC/Python_API_2022/miniconda/lib/python3.7/site-packages/pywindow-0.0.1-py3.7.egg/pywindow/utilities.py:1152: VisibleDeprecationWarning: Creating an ndarray from ragged nested sequences (which is a list-or-tuple of lists-or-tuples-or ndarrays with different lengths or shapes) is deprecated. If you meant to do this, you must specify 'dtype=object' when creating the ndarray.\n",
      "/Applications/CCDC/Python_API_2022/miniconda/lib/python3.7/site-packages/pywindow-0.0.1-py3.7.egg/pywindow/utilities.py:1152: VisibleDeprecationWarning: Creating an ndarray from ragged nested sequences (which is a list-or-tuple of lists-or-tuples-or ndarrays with different lengths or shapes) is deprecated. If you meant to do this, you must specify 'dtype=object' when creating the ndarray.\n",
      "/Applications/CCDC/Python_API_2022/miniconda/lib/python3.7/site-packages/pywindow-0.0.1-py3.7.egg/pywindow/utilities.py:1152: VisibleDeprecationWarning: Creating an ndarray from ragged nested sequences (which is a list-or-tuple of lists-or-tuples-or ndarrays with different lengths or shapes) is deprecated. If you meant to do this, you must specify 'dtype=object' when creating the ndarray.\n",
      "/Applications/CCDC/Python_API_2022/miniconda/lib/python3.7/site-packages/pywindow-0.0.1-py3.7.egg/pywindow/utilities.py:1152: VisibleDeprecationWarning: Creating an ndarray from ragged nested sequences (which is a list-or-tuple of lists-or-tuples-or ndarrays with different lengths or shapes) is deprecated. If you meant to do this, you must specify 'dtype=object' when creating the ndarray.\n",
      "/Applications/CCDC/Python_API_2022/miniconda/lib/python3.7/site-packages/pywindow-0.0.1-py3.7.egg/pywindow/utilities.py:1152: VisibleDeprecationWarning: Creating an ndarray from ragged nested sequences (which is a list-or-tuple of lists-or-tuples-or ndarrays with different lengths or shapes) is deprecated. If you meant to do this, you must specify 'dtype=object' when creating the ndarray.\n",
      "/Applications/CCDC/Python_API_2022/miniconda/lib/python3.7/site-packages/pywindow-0.0.1-py3.7.egg/pywindow/utilities.py:1152: VisibleDeprecationWarning: Creating an ndarray from ragged nested sequences (which is a list-or-tuple of lists-or-tuples-or ndarrays with different lengths or shapes) is deprecated. If you meant to do this, you must specify 'dtype=object' when creating the ndarray.\n",
      "/Applications/CCDC/Python_API_2022/miniconda/lib/python3.7/site-packages/pywindow-0.0.1-py3.7.egg/pywindow/utilities.py:1152: VisibleDeprecationWarning: Creating an ndarray from ragged nested sequences (which is a list-or-tuple of lists-or-tuples-or ndarrays with different lengths or shapes) is deprecated. If you meant to do this, you must specify 'dtype=object' when creating the ndarray.\n",
      "/Applications/CCDC/Python_API_2022/miniconda/lib/python3.7/site-packages/pywindow-0.0.1-py3.7.egg/pywindow/utilities.py:1152: VisibleDeprecationWarning: Creating an ndarray from ragged nested sequences (which is a list-or-tuple of lists-or-tuples-or ndarrays with different lengths or shapes) is deprecated. If you meant to do this, you must specify 'dtype=object' when creating the ndarray.\n",
      "/Applications/CCDC/Python_API_2022/miniconda/lib/python3.7/site-packages/pywindow-0.0.1-py3.7.egg/pywindow/utilities.py:1152: VisibleDeprecationWarning: Creating an ndarray from ragged nested sequences (which is a list-or-tuple of lists-or-tuples-or ndarrays with different lengths or shapes) is deprecated. If you meant to do this, you must specify 'dtype=object' when creating the ndarray.\n",
      "/Applications/CCDC/Python_API_2022/miniconda/lib/python3.7/site-packages/pywindow-0.0.1-py3.7.egg/pywindow/utilities.py:1152: VisibleDeprecationWarning: Creating an ndarray from ragged nested sequences (which is a list-or-tuple of lists-or-tuples-or ndarrays with different lengths or shapes) is deprecated. If you meant to do this, you must specify 'dtype=object' when creating the ndarray.\n",
      "/Applications/CCDC/Python_API_2022/miniconda/lib/python3.7/site-packages/pywindow-0.0.1-py3.7.egg/pywindow/utilities.py:1152: VisibleDeprecationWarning: Creating an ndarray from ragged nested sequences (which is a list-or-tuple of lists-or-tuples-or ndarrays with different lengths or shapes) is deprecated. If you meant to do this, you must specify 'dtype=object' when creating the ndarray.\n",
      "/Applications/CCDC/Python_API_2022/miniconda/lib/python3.7/site-packages/pywindow-0.0.1-py3.7.egg/pywindow/utilities.py:1152: VisibleDeprecationWarning: Creating an ndarray from ragged nested sequences (which is a list-or-tuple of lists-or-tuples-or ndarrays with different lengths or shapes) is deprecated. If you meant to do this, you must specify 'dtype=object' when creating the ndarray.\n",
      "/Applications/CCDC/Python_API_2022/miniconda/lib/python3.7/site-packages/pywindow-0.0.1-py3.7.egg/pywindow/utilities.py:1152: VisibleDeprecationWarning: Creating an ndarray from ragged nested sequences (which is a list-or-tuple of lists-or-tuples-or ndarrays with different lengths or shapes) is deprecated. If you meant to do this, you must specify 'dtype=object' when creating the ndarray.\n",
      "/Applications/CCDC/Python_API_2022/miniconda/lib/python3.7/site-packages/pywindow-0.0.1-py3.7.egg/pywindow/utilities.py:1152: VisibleDeprecationWarning: Creating an ndarray from ragged nested sequences (which is a list-or-tuple of lists-or-tuples-or ndarrays with different lengths or shapes) is deprecated. If you meant to do this, you must specify 'dtype=object' when creating the ndarray.\n",
      "/Applications/CCDC/Python_API_2022/miniconda/lib/python3.7/site-packages/pywindow-0.0.1-py3.7.egg/pywindow/utilities.py:1152: VisibleDeprecationWarning: Creating an ndarray from ragged nested sequences (which is a list-or-tuple of lists-or-tuples-or ndarrays with different lengths or shapes) is deprecated. If you meant to do this, you must specify 'dtype=object' when creating the ndarray.\n"
     ]
    },
    {
     "name": "stderr",
     "output_type": "stream",
     "text": [
      "/Applications/CCDC/Python_API_2022/miniconda/lib/python3.7/site-packages/pywindow-0.0.1-py3.7.egg/pywindow/utilities.py:1152: VisibleDeprecationWarning: Creating an ndarray from ragged nested sequences (which is a list-or-tuple of lists-or-tuples-or ndarrays with different lengths or shapes) is deprecated. If you meant to do this, you must specify 'dtype=object' when creating the ndarray.\n",
      "/Applications/CCDC/Python_API_2022/miniconda/lib/python3.7/site-packages/pywindow-0.0.1-py3.7.egg/pywindow/utilities.py:1152: VisibleDeprecationWarning: Creating an ndarray from ragged nested sequences (which is a list-or-tuple of lists-or-tuples-or ndarrays with different lengths or shapes) is deprecated. If you meant to do this, you must specify 'dtype=object' when creating the ndarray.\n",
      "/Applications/CCDC/Python_API_2022/miniconda/lib/python3.7/site-packages/pywindow-0.0.1-py3.7.egg/pywindow/utilities.py:1152: VisibleDeprecationWarning: Creating an ndarray from ragged nested sequences (which is a list-or-tuple of lists-or-tuples-or ndarrays with different lengths or shapes) is deprecated. If you meant to do this, you must specify 'dtype=object' when creating the ndarray.\n",
      "/Applications/CCDC/Python_API_2022/miniconda/lib/python3.7/site-packages/pywindow-0.0.1-py3.7.egg/pywindow/utilities.py:1152: VisibleDeprecationWarning: Creating an ndarray from ragged nested sequences (which is a list-or-tuple of lists-or-tuples-or ndarrays with different lengths or shapes) is deprecated. If you meant to do this, you must specify 'dtype=object' when creating the ndarray.\n",
      "/Applications/CCDC/Python_API_2022/miniconda/lib/python3.7/site-packages/pywindow-0.0.1-py3.7.egg/pywindow/utilities.py:1152: VisibleDeprecationWarning: Creating an ndarray from ragged nested sequences (which is a list-or-tuple of lists-or-tuples-or ndarrays with different lengths or shapes) is deprecated. If you meant to do this, you must specify 'dtype=object' when creating the ndarray.\n",
      "/Applications/CCDC/Python_API_2022/miniconda/lib/python3.7/site-packages/pywindow-0.0.1-py3.7.egg/pywindow/utilities.py:1152: VisibleDeprecationWarning: Creating an ndarray from ragged nested sequences (which is a list-or-tuple of lists-or-tuples-or ndarrays with different lengths or shapes) is deprecated. If you meant to do this, you must specify 'dtype=object' when creating the ndarray.\n",
      "/Applications/CCDC/Python_API_2022/miniconda/lib/python3.7/site-packages/pywindow-0.0.1-py3.7.egg/pywindow/utilities.py:1152: VisibleDeprecationWarning: Creating an ndarray from ragged nested sequences (which is a list-or-tuple of lists-or-tuples-or ndarrays with different lengths or shapes) is deprecated. If you meant to do this, you must specify 'dtype=object' when creating the ndarray.\n",
      "/Applications/CCDC/Python_API_2022/miniconda/lib/python3.7/site-packages/pywindow-0.0.1-py3.7.egg/pywindow/utilities.py:1152: VisibleDeprecationWarning: Creating an ndarray from ragged nested sequences (which is a list-or-tuple of lists-or-tuples-or ndarrays with different lengths or shapes) is deprecated. If you meant to do this, you must specify 'dtype=object' when creating the ndarray.\n",
      "/Applications/CCDC/Python_API_2022/miniconda/lib/python3.7/site-packages/pywindow-0.0.1-py3.7.egg/pywindow/utilities.py:1152: VisibleDeprecationWarning: Creating an ndarray from ragged nested sequences (which is a list-or-tuple of lists-or-tuples-or ndarrays with different lengths or shapes) is deprecated. If you meant to do this, you must specify 'dtype=object' when creating the ndarray.\n",
      "/Applications/CCDC/Python_API_2022/miniconda/lib/python3.7/site-packages/pywindow-0.0.1-py3.7.egg/pywindow/utilities.py:1152: VisibleDeprecationWarning: Creating an ndarray from ragged nested sequences (which is a list-or-tuple of lists-or-tuples-or ndarrays with different lengths or shapes) is deprecated. If you meant to do this, you must specify 'dtype=object' when creating the ndarray.\n",
      "/Applications/CCDC/Python_API_2022/miniconda/lib/python3.7/site-packages/pywindow-0.0.1-py3.7.egg/pywindow/utilities.py:1152: VisibleDeprecationWarning: Creating an ndarray from ragged nested sequences (which is a list-or-tuple of lists-or-tuples-or ndarrays with different lengths or shapes) is deprecated. If you meant to do this, you must specify 'dtype=object' when creating the ndarray.\n",
      "/Applications/CCDC/Python_API_2022/miniconda/lib/python3.7/site-packages/pywindow-0.0.1-py3.7.egg/pywindow/utilities.py:1152: VisibleDeprecationWarning: Creating an ndarray from ragged nested sequences (which is a list-or-tuple of lists-or-tuples-or ndarrays with different lengths or shapes) is deprecated. If you meant to do this, you must specify 'dtype=object' when creating the ndarray.\n",
      "/Applications/CCDC/Python_API_2022/miniconda/lib/python3.7/site-packages/pywindow-0.0.1-py3.7.egg/pywindow/utilities.py:1152: VisibleDeprecationWarning: Creating an ndarray from ragged nested sequences (which is a list-or-tuple of lists-or-tuples-or ndarrays with different lengths or shapes) is deprecated. If you meant to do this, you must specify 'dtype=object' when creating the ndarray.\n",
      "/Applications/CCDC/Python_API_2022/miniconda/lib/python3.7/site-packages/pywindow-0.0.1-py3.7.egg/pywindow/utilities.py:1152: VisibleDeprecationWarning: Creating an ndarray from ragged nested sequences (which is a list-or-tuple of lists-or-tuples-or ndarrays with different lengths or shapes) is deprecated. If you meant to do this, you must specify 'dtype=object' when creating the ndarray.\n",
      "/Applications/CCDC/Python_API_2022/miniconda/lib/python3.7/site-packages/pywindow-0.0.1-py3.7.egg/pywindow/utilities.py:1152: VisibleDeprecationWarning: Creating an ndarray from ragged nested sequences (which is a list-or-tuple of lists-or-tuples-or ndarrays with different lengths or shapes) is deprecated. If you meant to do this, you must specify 'dtype=object' when creating the ndarray.\n",
      "/Applications/CCDC/Python_API_2022/miniconda/lib/python3.7/site-packages/pywindow-0.0.1-py3.7.egg/pywindow/utilities.py:1152: VisibleDeprecationWarning: Creating an ndarray from ragged nested sequences (which is a list-or-tuple of lists-or-tuples-or ndarrays with different lengths or shapes) is deprecated. If you meant to do this, you must specify 'dtype=object' when creating the ndarray.\n",
      "/Applications/CCDC/Python_API_2022/miniconda/lib/python3.7/site-packages/pywindow-0.0.1-py3.7.egg/pywindow/utilities.py:1152: VisibleDeprecationWarning: Creating an ndarray from ragged nested sequences (which is a list-or-tuple of lists-or-tuples-or ndarrays with different lengths or shapes) is deprecated. If you meant to do this, you must specify 'dtype=object' when creating the ndarray.\n",
      "/Applications/CCDC/Python_API_2022/miniconda/lib/python3.7/site-packages/pywindow-0.0.1-py3.7.egg/pywindow/utilities.py:1152: VisibleDeprecationWarning: Creating an ndarray from ragged nested sequences (which is a list-or-tuple of lists-or-tuples-or ndarrays with different lengths or shapes) is deprecated. If you meant to do this, you must specify 'dtype=object' when creating the ndarray.\n",
      "/Applications/CCDC/Python_API_2022/miniconda/lib/python3.7/site-packages/pywindow-0.0.1-py3.7.egg/pywindow/utilities.py:1152: VisibleDeprecationWarning: Creating an ndarray from ragged nested sequences (which is a list-or-tuple of lists-or-tuples-or ndarrays with different lengths or shapes) is deprecated. If you meant to do this, you must specify 'dtype=object' when creating the ndarray.\n",
      "/Applications/CCDC/Python_API_2022/miniconda/lib/python3.7/site-packages/pywindow-0.0.1-py3.7.egg/pywindow/utilities.py:1152: VisibleDeprecationWarning: Creating an ndarray from ragged nested sequences (which is a list-or-tuple of lists-or-tuples-or ndarrays with different lengths or shapes) is deprecated. If you meant to do this, you must specify 'dtype=object' when creating the ndarray.\n",
      "/Applications/CCDC/Python_API_2022/miniconda/lib/python3.7/site-packages/pywindow-0.0.1-py3.7.egg/pywindow/utilities.py:1152: VisibleDeprecationWarning: Creating an ndarray from ragged nested sequences (which is a list-or-tuple of lists-or-tuples-or ndarrays with different lengths or shapes) is deprecated. If you meant to do this, you must specify 'dtype=object' when creating the ndarray.\n",
      "/Applications/CCDC/Python_API_2022/miniconda/lib/python3.7/site-packages/pywindow-0.0.1-py3.7.egg/pywindow/utilities.py:1152: VisibleDeprecationWarning: Creating an ndarray from ragged nested sequences (which is a list-or-tuple of lists-or-tuples-or ndarrays with different lengths or shapes) is deprecated. If you meant to do this, you must specify 'dtype=object' when creating the ndarray.\n",
      "/Applications/CCDC/Python_API_2022/miniconda/lib/python3.7/site-packages/pywindow-0.0.1-py3.7.egg/pywindow/utilities.py:1152: VisibleDeprecationWarning: Creating an ndarray from ragged nested sequences (which is a list-or-tuple of lists-or-tuples-or ndarrays with different lengths or shapes) is deprecated. If you meant to do this, you must specify 'dtype=object' when creating the ndarray.\n",
      "/Applications/CCDC/Python_API_2022/miniconda/lib/python3.7/site-packages/pywindow-0.0.1-py3.7.egg/pywindow/utilities.py:1152: VisibleDeprecationWarning: Creating an ndarray from ragged nested sequences (which is a list-or-tuple of lists-or-tuples-or ndarrays with different lengths or shapes) is deprecated. If you meant to do this, you must specify 'dtype=object' when creating the ndarray.\n"
     ]
    },
    {
     "name": "stderr",
     "output_type": "stream",
     "text": [
      "/Applications/CCDC/Python_API_2022/miniconda/lib/python3.7/site-packages/pywindow-0.0.1-py3.7.egg/pywindow/utilities.py:1152: VisibleDeprecationWarning: Creating an ndarray from ragged nested sequences (which is a list-or-tuple of lists-or-tuples-or ndarrays with different lengths or shapes) is deprecated. If you meant to do this, you must specify 'dtype=object' when creating the ndarray.\n",
      "/Applications/CCDC/Python_API_2022/miniconda/lib/python3.7/site-packages/pywindow-0.0.1-py3.7.egg/pywindow/utilities.py:1152: VisibleDeprecationWarning: Creating an ndarray from ragged nested sequences (which is a list-or-tuple of lists-or-tuples-or ndarrays with different lengths or shapes) is deprecated. If you meant to do this, you must specify 'dtype=object' when creating the ndarray.\n",
      "/Applications/CCDC/Python_API_2022/miniconda/lib/python3.7/site-packages/pywindow-0.0.1-py3.7.egg/pywindow/utilities.py:1152: VisibleDeprecationWarning: Creating an ndarray from ragged nested sequences (which is a list-or-tuple of lists-or-tuples-or ndarrays with different lengths or shapes) is deprecated. If you meant to do this, you must specify 'dtype=object' when creating the ndarray.\n",
      "/Applications/CCDC/Python_API_2022/miniconda/lib/python3.7/site-packages/pywindow-0.0.1-py3.7.egg/pywindow/utilities.py:1152: VisibleDeprecationWarning: Creating an ndarray from ragged nested sequences (which is a list-or-tuple of lists-or-tuples-or ndarrays with different lengths or shapes) is deprecated. If you meant to do this, you must specify 'dtype=object' when creating the ndarray.\n",
      "/Applications/CCDC/Python_API_2022/miniconda/lib/python3.7/site-packages/pywindow-0.0.1-py3.7.egg/pywindow/utilities.py:1152: VisibleDeprecationWarning: Creating an ndarray from ragged nested sequences (which is a list-or-tuple of lists-or-tuples-or ndarrays with different lengths or shapes) is deprecated. If you meant to do this, you must specify 'dtype=object' when creating the ndarray.\n",
      "/Applications/CCDC/Python_API_2022/miniconda/lib/python3.7/site-packages/pywindow-0.0.1-py3.7.egg/pywindow/utilities.py:1152: VisibleDeprecationWarning: Creating an ndarray from ragged nested sequences (which is a list-or-tuple of lists-or-tuples-or ndarrays with different lengths or shapes) is deprecated. If you meant to do this, you must specify 'dtype=object' when creating the ndarray.\n",
      "/Applications/CCDC/Python_API_2022/miniconda/lib/python3.7/site-packages/pywindow-0.0.1-py3.7.egg/pywindow/utilities.py:1152: VisibleDeprecationWarning: Creating an ndarray from ragged nested sequences (which is a list-or-tuple of lists-or-tuples-or ndarrays with different lengths or shapes) is deprecated. If you meant to do this, you must specify 'dtype=object' when creating the ndarray.\n",
      "/Applications/CCDC/Python_API_2022/miniconda/lib/python3.7/site-packages/pywindow-0.0.1-py3.7.egg/pywindow/utilities.py:1152: VisibleDeprecationWarning: Creating an ndarray from ragged nested sequences (which is a list-or-tuple of lists-or-tuples-or ndarrays with different lengths or shapes) is deprecated. If you meant to do this, you must specify 'dtype=object' when creating the ndarray.\n",
      "/Applications/CCDC/Python_API_2022/miniconda/lib/python3.7/site-packages/pywindow-0.0.1-py3.7.egg/pywindow/utilities.py:1152: VisibleDeprecationWarning: Creating an ndarray from ragged nested sequences (which is a list-or-tuple of lists-or-tuples-or ndarrays with different lengths or shapes) is deprecated. If you meant to do this, you must specify 'dtype=object' when creating the ndarray.\n",
      "/Applications/CCDC/Python_API_2022/miniconda/lib/python3.7/site-packages/pywindow-0.0.1-py3.7.egg/pywindow/utilities.py:1152: VisibleDeprecationWarning: Creating an ndarray from ragged nested sequences (which is a list-or-tuple of lists-or-tuples-or ndarrays with different lengths or shapes) is deprecated. If you meant to do this, you must specify 'dtype=object' when creating the ndarray.\n",
      "/Applications/CCDC/Python_API_2022/miniconda/lib/python3.7/site-packages/pywindow-0.0.1-py3.7.egg/pywindow/utilities.py:1152: VisibleDeprecationWarning: Creating an ndarray from ragged nested sequences (which is a list-or-tuple of lists-or-tuples-or ndarrays with different lengths or shapes) is deprecated. If you meant to do this, you must specify 'dtype=object' when creating the ndarray.\n",
      "/Applications/CCDC/Python_API_2022/miniconda/lib/python3.7/site-packages/pywindow-0.0.1-py3.7.egg/pywindow/utilities.py:1152: VisibleDeprecationWarning: Creating an ndarray from ragged nested sequences (which is a list-or-tuple of lists-or-tuples-or ndarrays with different lengths or shapes) is deprecated. If you meant to do this, you must specify 'dtype=object' when creating the ndarray.\n"
     ]
    },
    {
     "name": "stdout",
     "output_type": "stream",
     "text": [
      "Error processing TEST_VOID_MOFs_xyz/ABAYIO.xyz\n",
      "Error processing TEST_VOID_MOFs_xyz/ABAYUY.xyz\n",
      "Error processing TEST_VOID_MOFs_xyz/ABEDAQ.xyz\n"
     ]
    },
    {
     "name": "stderr",
     "output_type": "stream",
     "text": [
      "/Applications/CCDC/Python_API_2022/miniconda/lib/python3.7/site-packages/pywindow-0.0.1-py3.7.egg/pywindow/utilities.py:1152: VisibleDeprecationWarning: Creating an ndarray from ragged nested sequences (which is a list-or-tuple of lists-or-tuples-or ndarrays with different lengths or shapes) is deprecated. If you meant to do this, you must specify 'dtype=object' when creating the ndarray.\n",
      "/Applications/CCDC/Python_API_2022/miniconda/lib/python3.7/site-packages/pywindow-0.0.1-py3.7.egg/pywindow/utilities.py:1152: VisibleDeprecationWarning: Creating an ndarray from ragged nested sequences (which is a list-or-tuple of lists-or-tuples-or ndarrays with different lengths or shapes) is deprecated. If you meant to do this, you must specify 'dtype=object' when creating the ndarray.\n",
      "/Applications/CCDC/Python_API_2022/miniconda/lib/python3.7/site-packages/pywindow-0.0.1-py3.7.egg/pywindow/utilities.py:1152: VisibleDeprecationWarning: Creating an ndarray from ragged nested sequences (which is a list-or-tuple of lists-or-tuples-or ndarrays with different lengths or shapes) is deprecated. If you meant to do this, you must specify 'dtype=object' when creating the ndarray.\n",
      "/Applications/CCDC/Python_API_2022/miniconda/lib/python3.7/site-packages/pywindow-0.0.1-py3.7.egg/pywindow/utilities.py:1152: VisibleDeprecationWarning: Creating an ndarray from ragged nested sequences (which is a list-or-tuple of lists-or-tuples-or ndarrays with different lengths or shapes) is deprecated. If you meant to do this, you must specify 'dtype=object' when creating the ndarray.\n",
      "/Applications/CCDC/Python_API_2022/miniconda/lib/python3.7/site-packages/pywindow-0.0.1-py3.7.egg/pywindow/utilities.py:1152: VisibleDeprecationWarning: Creating an ndarray from ragged nested sequences (which is a list-or-tuple of lists-or-tuples-or ndarrays with different lengths or shapes) is deprecated. If you meant to do this, you must specify 'dtype=object' when creating the ndarray.\n",
      "/Applications/CCDC/Python_API_2022/miniconda/lib/python3.7/site-packages/pywindow-0.0.1-py3.7.egg/pywindow/utilities.py:1152: VisibleDeprecationWarning: Creating an ndarray from ragged nested sequences (which is a list-or-tuple of lists-or-tuples-or ndarrays with different lengths or shapes) is deprecated. If you meant to do this, you must specify 'dtype=object' when creating the ndarray.\n",
      "/Applications/CCDC/Python_API_2022/miniconda/lib/python3.7/site-packages/pywindow-0.0.1-py3.7.egg/pywindow/utilities.py:1152: VisibleDeprecationWarning: Creating an ndarray from ragged nested sequences (which is a list-or-tuple of lists-or-tuples-or ndarrays with different lengths or shapes) is deprecated. If you meant to do this, you must specify 'dtype=object' when creating the ndarray.\n",
      "/Applications/CCDC/Python_API_2022/miniconda/lib/python3.7/site-packages/pywindow-0.0.1-py3.7.egg/pywindow/utilities.py:1152: VisibleDeprecationWarning: Creating an ndarray from ragged nested sequences (which is a list-or-tuple of lists-or-tuples-or ndarrays with different lengths or shapes) is deprecated. If you meant to do this, you must specify 'dtype=object' when creating the ndarray.\n",
      "/Applications/CCDC/Python_API_2022/miniconda/lib/python3.7/site-packages/pywindow-0.0.1-py3.7.egg/pywindow/utilities.py:1152: VisibleDeprecationWarning: Creating an ndarray from ragged nested sequences (which is a list-or-tuple of lists-or-tuples-or ndarrays with different lengths or shapes) is deprecated. If you meant to do this, you must specify 'dtype=object' when creating the ndarray.\n",
      "/Applications/CCDC/Python_API_2022/miniconda/lib/python3.7/site-packages/pywindow-0.0.1-py3.7.egg/pywindow/utilities.py:1152: VisibleDeprecationWarning: Creating an ndarray from ragged nested sequences (which is a list-or-tuple of lists-or-tuples-or ndarrays with different lengths or shapes) is deprecated. If you meant to do this, you must specify 'dtype=object' when creating the ndarray.\n",
      "/Applications/CCDC/Python_API_2022/miniconda/lib/python3.7/site-packages/pywindow-0.0.1-py3.7.egg/pywindow/utilities.py:1152: VisibleDeprecationWarning: Creating an ndarray from ragged nested sequences (which is a list-or-tuple of lists-or-tuples-or ndarrays with different lengths or shapes) is deprecated. If you meant to do this, you must specify 'dtype=object' when creating the ndarray.\n",
      "/Applications/CCDC/Python_API_2022/miniconda/lib/python3.7/site-packages/pywindow-0.0.1-py3.7.egg/pywindow/utilities.py:1152: VisibleDeprecationWarning: Creating an ndarray from ragged nested sequences (which is a list-or-tuple of lists-or-tuples-or ndarrays with different lengths or shapes) is deprecated. If you meant to do this, you must specify 'dtype=object' when creating the ndarray.\n",
      "/Applications/CCDC/Python_API_2022/miniconda/lib/python3.7/site-packages/pywindow-0.0.1-py3.7.egg/pywindow/utilities.py:1152: VisibleDeprecationWarning: Creating an ndarray from ragged nested sequences (which is a list-or-tuple of lists-or-tuples-or ndarrays with different lengths or shapes) is deprecated. If you meant to do this, you must specify 'dtype=object' when creating the ndarray.\n",
      "/Applications/CCDC/Python_API_2022/miniconda/lib/python3.7/site-packages/pywindow-0.0.1-py3.7.egg/pywindow/utilities.py:1152: VisibleDeprecationWarning: Creating an ndarray from ragged nested sequences (which is a list-or-tuple of lists-or-tuples-or ndarrays with different lengths or shapes) is deprecated. If you meant to do this, you must specify 'dtype=object' when creating the ndarray.\n",
      "/Applications/CCDC/Python_API_2022/miniconda/lib/python3.7/site-packages/pywindow-0.0.1-py3.7.egg/pywindow/utilities.py:1152: VisibleDeprecationWarning: Creating an ndarray from ragged nested sequences (which is a list-or-tuple of lists-or-tuples-or ndarrays with different lengths or shapes) is deprecated. If you meant to do this, you must specify 'dtype=object' when creating the ndarray.\n",
      "/Applications/CCDC/Python_API_2022/miniconda/lib/python3.7/site-packages/pywindow-0.0.1-py3.7.egg/pywindow/utilities.py:1152: VisibleDeprecationWarning: Creating an ndarray from ragged nested sequences (which is a list-or-tuple of lists-or-tuples-or ndarrays with different lengths or shapes) is deprecated. If you meant to do this, you must specify 'dtype=object' when creating the ndarray.\n",
      "/Applications/CCDC/Python_API_2022/miniconda/lib/python3.7/site-packages/pywindow-0.0.1-py3.7.egg/pywindow/utilities.py:1152: VisibleDeprecationWarning: Creating an ndarray from ragged nested sequences (which is a list-or-tuple of lists-or-tuples-or ndarrays with different lengths or shapes) is deprecated. If you meant to do this, you must specify 'dtype=object' when creating the ndarray.\n",
      "/Applications/CCDC/Python_API_2022/miniconda/lib/python3.7/site-packages/pywindow-0.0.1-py3.7.egg/pywindow/utilities.py:1152: VisibleDeprecationWarning: Creating an ndarray from ragged nested sequences (which is a list-or-tuple of lists-or-tuples-or ndarrays with different lengths or shapes) is deprecated. If you meant to do this, you must specify 'dtype=object' when creating the ndarray.\n",
      "/Applications/CCDC/Python_API_2022/miniconda/lib/python3.7/site-packages/pywindow-0.0.1-py3.7.egg/pywindow/utilities.py:1152: VisibleDeprecationWarning: Creating an ndarray from ragged nested sequences (which is a list-or-tuple of lists-or-tuples-or ndarrays with different lengths or shapes) is deprecated. If you meant to do this, you must specify 'dtype=object' when creating the ndarray.\n",
      "/Applications/CCDC/Python_API_2022/miniconda/lib/python3.7/site-packages/pywindow-0.0.1-py3.7.egg/pywindow/utilities.py:1152: VisibleDeprecationWarning: Creating an ndarray from ragged nested sequences (which is a list-or-tuple of lists-or-tuples-or ndarrays with different lengths or shapes) is deprecated. If you meant to do this, you must specify 'dtype=object' when creating the ndarray.\n",
      "/Applications/CCDC/Python_API_2022/miniconda/lib/python3.7/site-packages/pywindow-0.0.1-py3.7.egg/pywindow/utilities.py:1152: VisibleDeprecationWarning: Creating an ndarray from ragged nested sequences (which is a list-or-tuple of lists-or-tuples-or ndarrays with different lengths or shapes) is deprecated. If you meant to do this, you must specify 'dtype=object' when creating the ndarray.\n",
      "/Applications/CCDC/Python_API_2022/miniconda/lib/python3.7/site-packages/pywindow-0.0.1-py3.7.egg/pywindow/utilities.py:1152: VisibleDeprecationWarning: Creating an ndarray from ragged nested sequences (which is a list-or-tuple of lists-or-tuples-or ndarrays with different lengths or shapes) is deprecated. If you meant to do this, you must specify 'dtype=object' when creating the ndarray.\n",
      "/Applications/CCDC/Python_API_2022/miniconda/lib/python3.7/site-packages/pywindow-0.0.1-py3.7.egg/pywindow/utilities.py:1152: VisibleDeprecationWarning: Creating an ndarray from ragged nested sequences (which is a list-or-tuple of lists-or-tuples-or ndarrays with different lengths or shapes) is deprecated. If you meant to do this, you must specify 'dtype=object' when creating the ndarray.\n",
      "/Applications/CCDC/Python_API_2022/miniconda/lib/python3.7/site-packages/pywindow-0.0.1-py3.7.egg/pywindow/utilities.py:1152: VisibleDeprecationWarning: Creating an ndarray from ragged nested sequences (which is a list-or-tuple of lists-or-tuples-or ndarrays with different lengths or shapes) is deprecated. If you meant to do this, you must specify 'dtype=object' when creating the ndarray.\n"
     ]
    },
    {
     "name": "stderr",
     "output_type": "stream",
     "text": [
      "/Applications/CCDC/Python_API_2022/miniconda/lib/python3.7/site-packages/pywindow-0.0.1-py3.7.egg/pywindow/utilities.py:1152: VisibleDeprecationWarning: Creating an ndarray from ragged nested sequences (which is a list-or-tuple of lists-or-tuples-or ndarrays with different lengths or shapes) is deprecated. If you meant to do this, you must specify 'dtype=object' when creating the ndarray.\n",
      "/Applications/CCDC/Python_API_2022/miniconda/lib/python3.7/site-packages/pywindow-0.0.1-py3.7.egg/pywindow/utilities.py:1152: VisibleDeprecationWarning: Creating an ndarray from ragged nested sequences (which is a list-or-tuple of lists-or-tuples-or ndarrays with different lengths or shapes) is deprecated. If you meant to do this, you must specify 'dtype=object' when creating the ndarray.\n",
      "/Applications/CCDC/Python_API_2022/miniconda/lib/python3.7/site-packages/pywindow-0.0.1-py3.7.egg/pywindow/utilities.py:1152: VisibleDeprecationWarning: Creating an ndarray from ragged nested sequences (which is a list-or-tuple of lists-or-tuples-or ndarrays with different lengths or shapes) is deprecated. If you meant to do this, you must specify 'dtype=object' when creating the ndarray.\n",
      "/Applications/CCDC/Python_API_2022/miniconda/lib/python3.7/site-packages/pywindow-0.0.1-py3.7.egg/pywindow/utilities.py:1152: VisibleDeprecationWarning: Creating an ndarray from ragged nested sequences (which is a list-or-tuple of lists-or-tuples-or ndarrays with different lengths or shapes) is deprecated. If you meant to do this, you must specify 'dtype=object' when creating the ndarray.\n",
      "/Applications/CCDC/Python_API_2022/miniconda/lib/python3.7/site-packages/pywindow-0.0.1-py3.7.egg/pywindow/utilities.py:1152: VisibleDeprecationWarning: Creating an ndarray from ragged nested sequences (which is a list-or-tuple of lists-or-tuples-or ndarrays with different lengths or shapes) is deprecated. If you meant to do this, you must specify 'dtype=object' when creating the ndarray.\n",
      "/Applications/CCDC/Python_API_2022/miniconda/lib/python3.7/site-packages/pywindow-0.0.1-py3.7.egg/pywindow/utilities.py:1152: VisibleDeprecationWarning: Creating an ndarray from ragged nested sequences (which is a list-or-tuple of lists-or-tuples-or ndarrays with different lengths or shapes) is deprecated. If you meant to do this, you must specify 'dtype=object' when creating the ndarray.\n",
      "/Applications/CCDC/Python_API_2022/miniconda/lib/python3.7/site-packages/pywindow-0.0.1-py3.7.egg/pywindow/utilities.py:1152: VisibleDeprecationWarning: Creating an ndarray from ragged nested sequences (which is a list-or-tuple of lists-or-tuples-or ndarrays with different lengths or shapes) is deprecated. If you meant to do this, you must specify 'dtype=object' when creating the ndarray.\n",
      "/Applications/CCDC/Python_API_2022/miniconda/lib/python3.7/site-packages/pywindow-0.0.1-py3.7.egg/pywindow/utilities.py:1152: VisibleDeprecationWarning: Creating an ndarray from ragged nested sequences (which is a list-or-tuple of lists-or-tuples-or ndarrays with different lengths or shapes) is deprecated. If you meant to do this, you must specify 'dtype=object' when creating the ndarray.\n",
      "/Applications/CCDC/Python_API_2022/miniconda/lib/python3.7/site-packages/pywindow-0.0.1-py3.7.egg/pywindow/utilities.py:1152: VisibleDeprecationWarning: Creating an ndarray from ragged nested sequences (which is a list-or-tuple of lists-or-tuples-or ndarrays with different lengths or shapes) is deprecated. If you meant to do this, you must specify 'dtype=object' when creating the ndarray.\n",
      "/Applications/CCDC/Python_API_2022/miniconda/lib/python3.7/site-packages/pywindow-0.0.1-py3.7.egg/pywindow/utilities.py:1152: VisibleDeprecationWarning: Creating an ndarray from ragged nested sequences (which is a list-or-tuple of lists-or-tuples-or ndarrays with different lengths or shapes) is deprecated. If you meant to do this, you must specify 'dtype=object' when creating the ndarray.\n",
      "/Applications/CCDC/Python_API_2022/miniconda/lib/python3.7/site-packages/pywindow-0.0.1-py3.7.egg/pywindow/utilities.py:1152: VisibleDeprecationWarning: Creating an ndarray from ragged nested sequences (which is a list-or-tuple of lists-or-tuples-or ndarrays with different lengths or shapes) is deprecated. If you meant to do this, you must specify 'dtype=object' when creating the ndarray.\n",
      "/Applications/CCDC/Python_API_2022/miniconda/lib/python3.7/site-packages/pywindow-0.0.1-py3.7.egg/pywindow/utilities.py:1152: VisibleDeprecationWarning: Creating an ndarray from ragged nested sequences (which is a list-or-tuple of lists-or-tuples-or ndarrays with different lengths or shapes) is deprecated. If you meant to do this, you must specify 'dtype=object' when creating the ndarray.\n"
     ]
    },
    {
     "name": "stdout",
     "output_type": "stream",
     "text": [
      "Error processing TEST_VOID_MOFs_xyz/ABEFUL.xyz\n",
      "Error processing TEST_VOID_MOFs_xyz/ABELAY.xyz\n",
      "Error processing TEST_VOID_MOFs_xyz/ABELEC.xyz\n"
     ]
    }
   ],
   "source": [
    "#added an additional bit - made a list of problematic MOFs.\n",
    "import shutil\n",
    "import os\n",
    "import glob\n",
    "import pywindow as pw\n",
    "import pickle \n",
    "\n",
    "def xyz_analyse_window():\n",
    "    list_of_xyzs = sorted(glob.glob(\"TEST_VOID_MOFs_xyz/*.xyz\"))\n",
    "    names = []\n",
    "    windows = []\n",
    "    problems = []\n",
    "    for xyz in list_of_xyzs:\n",
    "        try:\n",
    "            molsys = pw.MolecularSystem.load_file(xyz)\n",
    "            mol = molsys.system_to_molecule()\n",
    "            window = mol.calculate_windows()\n",
    "            if window.size == 0: #pick MOFs with a non-zero window size.\n",
    "                pass\n",
    "            else:\n",
    "                windows.append(window)\n",
    "                name = os.path.splitext(os.path.basename(xyz))[0]\n",
    "                names.append(name)\n",
    "        except:\n",
    "            print(f'Error processing {xyz}')\n",
    "            problems.append(os.path.splitext(os.path.basename(xyz))[0])\n",
    "            \n",
    "    return(names, windows, problems)  \n",
    "\n",
    "names, windows, problems = xyz_analyse_window() #Carry out the window size calculations.\n",
    "    \n",
    "dict_of_windows = dict(zip(names, windows)) #Create a dictionary with MOF names and corresponding window sizes.\n",
    "\n",
    "string_to_match = tuple(f\"{i}.xyz\" for i in names)\n",
    "os.mkdir(\"TEST_All_Windows_MOFs_xyz\")\n",
    "\n",
    "for filename in os.listdir(\"VOID_MOFs_xyz\"):\n",
    "    if filename in string_to_match:\n",
    "        shutil.copy(os.path.join(\"VOID_MOFs_xyz\", filename), \"TEST_All_Windows_MOFs_xyz\") #Output 1: a new directory with desired xyz files for further computations.\n",
    "\n",
    "pickle_obj = open(\"TEST_Dictionary of all window sizes.pickle\", \"wb\")\n",
    "pickle.dump(dict_of_windows, pickle_obj)\n",
    "pickle_obj.close()\n",
    "#Output 2: a pickle file containing the dictionary of suitable MOFs.\n",
    "#only MOFs with a non-zero window sizes + without the 'error processing'are included in the outputs\n",
    "\n",
    "with open(\"pywindow error processing MOFs.txt\", \"w\") as output:\n",
    "    output.write(str(problems)) #Output 3: a text file containing the names of MOFs which returned the \"Error processing message\".\n",
    "\n"
   ]
  },
  {
   "cell_type": "code",
   "execution_count": 2,
   "id": "905963bc",
   "metadata": {},
   "outputs": [
    {
     "name": "stdout",
     "output_type": "stream",
     "text": [
      "['TEST_VOID_MOFs_xyz/ABANAW.xyz', 'TEST_VOID_MOFs_xyz/ABAVIJ.xyz', 'TEST_VOID_MOFs_xyz/ABAYIO.xyz', 'TEST_VOID_MOFs_xyz/ABAYUY.xyz', 'TEST_VOID_MOFs_xyz/ABEDAQ.xyz', 'TEST_VOID_MOFs_xyz/ABEFUL.xyz', 'TEST_VOID_MOFs_xyz/ABELAY.xyz', 'TEST_VOID_MOFs_xyz/ABELEC.xyz']\n"
     ]
    }
   ],
   "source": [
    "print(problems)"
   ]
  },
  {
   "cell_type": "code",
   "execution_count": null,
   "id": "1ec4b7df",
   "metadata": {},
   "outputs": [],
   "source": []
  }
 ],
 "metadata": {
  "kernelspec": {
   "display_name": "Python 3 (ipykernel)",
   "language": "python",
   "name": "python3"
  },
  "language_info": {
   "codemirror_mode": {
    "name": "ipython",
    "version": 3
   },
   "file_extension": ".py",
   "mimetype": "text/x-python",
   "name": "python",
   "nbconvert_exporter": "python",
   "pygments_lexer": "ipython3",
   "version": "3.7.12"
  }
 },
 "nbformat": 4,
 "nbformat_minor": 5
}
